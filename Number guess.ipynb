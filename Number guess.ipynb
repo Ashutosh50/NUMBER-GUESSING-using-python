{
 "cells": [
  {
   "cell_type": "code",
   "execution_count": null,
   "id": "4788704a",
   "metadata": {},
   "outputs": [],
   "source": [
    "#NUMBER GUESSING GAME USING PYTHON\n",
    "#USER INPUT BOUNDES"
   ]
  },
  {
   "cell_type": "code",
   "execution_count": 3,
   "id": "85a05477",
   "metadata": {},
   "outputs": [
    {
     "name": "stdout",
     "output_type": "stream",
     "text": [
      "Enter Lower bound:- 0\n",
      "Enter Upper bound:- 10\n",
      "\n",
      "\tYou've only  3  chances to guess the integer!\n",
      "\n",
      "Guess a number:- 5\n",
      "You guessed too small!\n",
      "Guess a number:- 7\n",
      "You Guessed too high!\n",
      "Guess a number:- 6\n",
      "Congratulations you did it in  3  try\n"
     ]
    }
   ],
   "source": [
    "import random\n",
    "import math\n",
    "# Taking Inputs\n",
    "lower = int(input(\"Enter Lower bound:- \"))\n",
    "\n",
    "# Taking Inputs\n",
    "upper = int(input(\"Enter Upper bound:- \"))\n",
    "\n",
    "# generating random number between\n",
    "# the lower and upper\n",
    "x = random.randint(lower, upper)\n",
    "print(\"\\n\\tYou've only \", round(math.log(upper - lower + 1, 2)),\" chances to guess the integer!\\n\")\n",
    "\n",
    "# Initializing the number of guesses.\n",
    "count = 0\n",
    "\n",
    "# for calculation of minimum number of\n",
    "# guesses depends upon range\n",
    "while count < math.log(upper - lower + 1, 2):\n",
    "    count += 1\n",
    "\n",
    "# taking guessing number as input\n",
    "    guess = int(input(\"Guess a number:- \"))\n",
    "\n",
    "# Condition testing\n",
    "    if x == guess:\n",
    "        print(\"Congratulations you did it in \",\n",
    "            count, \" try\")\n",
    "# Once guessed, loop will break\n",
    "        break\n",
    "    elif x > guess:\n",
    "        print(\"You guessed too small!\")\n",
    "    elif x < guess:\n",
    "        print(\"You Guessed too high!\")\n",
    "\n",
    "if count >= math.log(upper - lower + 1, 2):\n",
    "    print(\"\\nThe number is %d\" % x)\n",
    "    print(\"\\tBetter Luck Next time!\")\n",
    "\n",
    "\n"
   ]
  },
  {
   "cell_type": "code",
   "execution_count": null,
   "id": "8152bfd7",
   "metadata": {},
   "outputs": [],
   "source": []
  }
 ],
 "metadata": {
  "kernelspec": {
   "display_name": "Python 3 (ipykernel)",
   "language": "python",
   "name": "python3"
  },
  "language_info": {
   "codemirror_mode": {
    "name": "ipython",
    "version": 3
   },
   "file_extension": ".py",
   "mimetype": "text/x-python",
   "name": "python",
   "nbconvert_exporter": "python",
   "pygments_lexer": "ipython3",
   "version": "3.9.7"
  }
 },
 "nbformat": 4,
 "nbformat_minor": 5
}
